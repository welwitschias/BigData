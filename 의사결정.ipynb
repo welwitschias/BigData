{
 "cells": [
  {
   "cell_type": "code",
   "execution_count": 1,
   "metadata": {},
   "outputs": [],
   "source": [
    "# Decsion Tree\n",
    "\n",
    "data = {\n",
    "    'wing': [False, True, True, True, True],  # 날개 유무\n",
    "    'weight': ['light', 'heavy', 'light', 'heavy', 'light'],  # 몸무게\n",
    "    'density': ['low', 'high', 'high', 'high', 'low'],  # 골밀도\n",
    "    'fly': [False, False, False, False, True]  # 비행 여부\n",
    "}\n"
   ]
  },
  {
   "cell_type": "code",
   "execution_count": 11,
   "metadata": {},
   "outputs": [
    {
     "name": "stdout",
     "output_type": "stream",
     "text": [
      "참새 가(이) 날 수 있는지 확인합니다.\n"
     ]
    }
   ],
   "source": [
    "target_index = 4\n",
    "target_names = ['고양이', '펭귄', '닭', '타조', '참새']\n",
    "print(target_names[target_index], '가(이) 날 수 있는지 확인합니다.')\n"
   ]
  },
  {
   "cell_type": "code",
   "execution_count": 9,
   "metadata": {},
   "outputs": [
    {
     "name": "stdout",
     "output_type": "stream",
     "text": [
      "날 수 있다.\n"
     ]
    }
   ],
   "source": [
    "if data['wing'][target_index]:\n",
    "    if data['weight'][target_index] == 'heavy':\n",
    "        print('날 수 없다.')\n",
    "    else:\n",
    "        if data['density'][target_index] == 'high':\n",
    "            print('날 수 없다.')\n",
    "        else:\n",
    "            print('날 수 있다.')\n",
    "else:\n",
    "    print('날 수 없다.')\n"
   ]
  },
  {
   "cell_type": "code",
   "execution_count": 13,
   "metadata": {},
   "outputs": [],
   "source": [
    "data = {\n",
    "    'age': [28, 22, 11, 10],\n",
    "    'fsize': [270, 235, 180, 120],\n",
    "    'sex': ['male', 'female', 'male', 'female']\n",
    "}\n"
   ]
  },
  {
   "cell_type": "code",
   "execution_count": 23,
   "metadata": {},
   "outputs": [
    {
     "name": "stdout",
     "output_type": "stream",
     "text": [
      "3번 회원 : 성별을 확인합니다.\n"
     ]
    }
   ],
   "source": [
    "target_index = 2\n",
    "target_names = ['1번 회원', '2번 회원', '3번 회원', '4번 회원']\n",
    "print(target_names[target_index], ': 성별을 확인합니다.')\n"
   ]
  },
  {
   "cell_type": "code",
   "execution_count": 24,
   "metadata": {},
   "outputs": [
    {
     "name": "stdout",
     "output_type": "stream",
     "text": [
      "남자입니다.\n"
     ]
    }
   ],
   "source": [
    "if data['age'][target_index] <= 20:\n",
    "    if data['fsize'][target_index] >= 150:\n",
    "        print('남자입니다.')\n",
    "    else:\n",
    "        print('여자입니다.')\n",
    "else:\n",
    "    if data['fsize'][target_index] >= 260:\n",
    "        print('남자입니다.')\n",
    "    else:\n",
    "        print('여자입니다.')\n"
   ]
  }
 ],
 "metadata": {
  "kernelspec": {
   "display_name": "Python 3.8.8 ('base')",
   "language": "python",
   "name": "python3"
  },
  "language_info": {
   "codemirror_mode": {
    "name": "ipython",
    "version": 3
   },
   "file_extension": ".py",
   "mimetype": "text/x-python",
   "name": "python",
   "nbconvert_exporter": "python",
   "pygments_lexer": "ipython3",
   "version": "3.8.8"
  },
  "orig_nbformat": 4,
  "vscode": {
   "interpreter": {
    "hash": "610a6f344c2137faf927ea819c63f6cee33a2c04455044b28099f39fe9722347"
   }
  }
 },
 "nbformat": 4,
 "nbformat_minor": 2
}
